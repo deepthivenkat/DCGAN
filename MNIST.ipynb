{
 "cells": [
  {
   "cell_type": "code",
   "execution_count": 1,
   "metadata": {
    "collapsed": false,
    "deletable": true,
    "editable": true
   },
   "outputs": [
    {
     "name": "stderr",
     "output_type": "stream",
     "text": [
      "/usr/local/lib/python3.4/dist-packages/IPython/html.py:14: ShimWarning: The `IPython.html` package has been deprecated since IPython 4.0. You should import from `notebook` instead. `IPython.html.widgets` has moved to `ipywidgets`.\n",
      "  \"`IPython.html.widgets` has moved to `ipywidgets`.\", ShimWarning)\n"
     ]
    }
   ],
   "source": [
    "import tensorflow as tf\n",
    "import numpy as np\n",
    "import matplotlib.pyplot as plt\n",
    "import seaborn as sns # for pretty plots\n",
    "from scipy.stats import norm\n",
    "%matplotlib inline"
   ]
  },
  {
   "cell_type": "code",
   "execution_count": 2,
   "metadata": {
    "collapsed": false,
    "deletable": true,
    "editable": true
   },
   "outputs": [
    {
     "data": {
      "text/plain": [
       "[<matplotlib.lines.Line2D at 0x7fb909d9c438>]"
      ]
     },
     "execution_count": 2,
     "metadata": {},
     "output_type": "execute_result"
    },
    {
     "data": {
      "image/png": "[encoded data removed]",
      "text/plain": [
       "<matplotlib.figure.Figure at 0x7fb961da2080>"
      ]
     },
     "metadata": {},
     "output_type": "display_data"
    }
   ],
   "source": [
    "\n",
    "mu,sigma=-1,1\n",
    "xs=np.linspace(-5,5,1000)\n",
    "plt.plot(xs, norm.pdf(xs,loc=mu,scale=sigma))"
   ]
  },
  {
   "cell_type": "code",
   "execution_count": 3,
   "metadata": {
    "collapsed": true,
    "deletable": true,
    "editable": true
   },
   "outputs": [],
   "source": [
    "TRAIN_ITERS=1000000\n",
    "M=200 # minibatch size\n",
    "# MLP - used for D_pre, D1, D2, G networks\n",
    "def mlp(input, output_dim):\n",
    "    # construct learnable parameters within local scope\n",
    "    w1=tf.get_variable(\"w0\", [input.get_shape()[1], 6], initializer=tf.random_normal_initializer())\n",
    "    b1=tf.get_variable(\"b0\", [6], initializer=tf.constant_initializer(0.0))\n",
    "    w2=tf.get_variable(\"w1\", [6, 5], initializer=tf.random_normal_initializer())\n",
    "    b2=tf.get_variable(\"b1\", [5], initializer=tf.constant_initializer(0.0))\n",
    "    w3=tf.get_variable(\"w2\", [5,output_dim], initializer=tf.random_normal_initializer())\n",
    "    b3=tf.get_variable(\"b2\", [output_dim], initializer=tf.constant_initializer(0.0))\n",
    "    # nn operators\n",
    "    fc1=tf.nn.tanh(tf.matmul(input,w1)+b1)\n",
    "    fc2=tf.nn.tanh(tf.matmul(fc1,w2)+b2)\n",
    "    fc3=tf.nn.tanh(tf.matmul(fc2,w3)+b3)\n",
    "    return fc3, [w1,b1,w2,b2,w3,b3]\n",
    "# re-used for optimizing all networks\n",
    "def momentum_optimizer(loss,var_list):\n",
    "    batch = tf.Variable(0)\n",
    "    learning_rate = tf.train.exponential_decay(\n",
    "        0.001,                # Base learning rate.\n",
    "        batch,  # Current index into the dataset.\n",
    "        TRAIN_ITERS // 4,          # Decay step - this decays 4 times throughout training process.\n",
    "        0.95,                # Decay rate.\n",
    "        staircase=True)\n",
    "    #optimizer=tf.train.GradientDescentOptimizer(learning_rate).minimize(loss,global_step=batch,var_list=var_list)\n",
    "    optimizer=tf.train.MomentumOptimizer(learning_rate,0.6).minimize(loss,global_step=batch,var_list=var_list)\n",
    "    return optimizer"
   ]
  },
  {
   "cell_type": "code",
   "execution_count": 4,
   "metadata": {
    "collapsed": false,
    "deletable": true,
    "editable": true
   },
   "outputs": [],
   "source": [
    "with tf.variable_scope(\"D_pre\"):\n",
    "    input_node=tf.placeholder(tf.float32, shape=(M,1))\n",
    "    train_labels=tf.placeholder(tf.float32,shape=(M,1))\n",
    "    D,theta=mlp(input_node,1)\n",
    "    loss=tf.reduce_mean(tf.square(D-train_labels))"
   ]
  },
  {
   "cell_type": "code",
   "execution_count": 5,
   "metadata": {
    "collapsed": false,
    "deletable": true,
    "editable": true
   },
   "outputs": [],
   "source": [
    "optimizer=momentum_optimizer(loss,None)\n",
    "\n",
    "sess=tf.InteractiveSession()\n",
    "tf.global_variables_initializer().run()\n",
    "\n",
    "# plot decision surface\n",
    "def plot_d0(D,input_node):\n",
    "    f,ax=plt.subplots(1)\n",
    "    # p_data\n",
    "    xs=np.linspace(-5,5,1000)\n",
    "    ax.plot(xs, norm.pdf(xs,loc=mu,scale=sigma), label='p_data')\n",
    "    # decision boundary\n",
    "    r=1000 # resolution (number of points)\n",
    "    xs=np.linspace(-5,5,r)\n",
    "    ds=np.zeros((r,1)) # decision surface\n",
    "    # process multiple points in parallel in a minibatch\n",
    "    for i in range(int(r/M)):\n",
    "        x=np.reshape(xs[M*i:M*(i+1)],(M,1))\n",
    "        ds[M*i:M*(i+1)]=sess.run(D,{input_node: x})\n",
    "\n",
    "    ax.plot(xs, ds, label='decision boundary')\n",
    "    ax.set_ylim(0,1.1)\n",
    "    plt.legend()\n",
    "\n",
    "\n"
   ]
  },
  {
   "cell_type": "code",
   "execution_count": 6,
   "metadata": {
    "collapsed": false,
    "deletable": true,
    "editable": true
   },
   "outputs": [
    {
     "name": "stdout",
     "output_type": "stream",
     "text": [
      "Tensor(\"D_pre/Tanh_2:0\", shape=(200, 1), dtype=float32) Tensor(\"D_pre/Placeholder:0\", shape=(200, 1), dtype=float32)\n"
     ]
    },
    {
     "data": {
      "text/plain": [
       "<matplotlib.text.Text at 0x7fb909c2c828>"
      ]
     },
     "execution_count": 6,
     "metadata": {},
     "output_type": "execute_result"
    },
    {
     "data": {
      "image/png": "[encoded data removed]",
      "text/plain": [
       "<matplotlib.figure.Figure at 0x7fb909d65320>"
      ]
     },
     "metadata": {},
     "output_type": "display_data"
    }
   ],
   "source": [
    "print (D,input_node)\n",
    "plot_d0(D,input_node)\n",
    "plt.title('Initial Decision Boundary')\n",
    "#plt.savefig('fig1.png')"
   ]
  },
  {
   "cell_type": "code",
   "execution_count": 7,
   "metadata": {
    "collapsed": true,
    "deletable": true,
    "editable": true
   },
   "outputs": [],
   "source": [
    "weightsD=sess.run(theta)\n",
    "sess.close()"
   ]
  },
  {
   "cell_type": "code",
   "execution_count": 8,
   "metadata": {
    "collapsed": true,
    "deletable": true,
    "editable": true
   },
   "outputs": [],
   "source": [
    "with tf.variable_scope(\"G\"):\n",
    "    z_node=tf.placeholder(tf.float32, shape=(M,1)) # M uniform01 floats\n",
    "    G,theta_g=mlp(z_node,1) # generate normal transformation of Z\n",
    "    G=tf.multiply(5.0,G) # scale up by 5 to match range\n",
    "with tf.variable_scope(\"D\") as scope:\n",
    "    # D(x)\n",
    "    x_node=tf.placeholder(tf.float32, shape=(M,1)) # input M normally distributed floats\n",
    "    fc,theta_d=mlp(x_node,1) # output likelihood of being normally distributed\n",
    "    D1=tf.maximum(tf.minimum(fc,.99), 0.01) # clamp as a probability\n",
    "    # make a copy of D that uses the same variables, but takes in G as input\n",
    "    scope.reuse_variables()\n",
    "    fc,theta_d=mlp(G,1)\n",
    "    D2=tf.maximum(tf.minimum(fc,.99), 0.01)\n",
    "obj_d=tf.reduce_mean(tf.log(D1)+tf.log(1-D2))\n",
    "obj_g=tf.reduce_mean(tf.log(D2))\n",
    "\n",
    "# set up optimizer for G,D\n",
    "opt_d=momentum_optimizer(1-obj_d, theta_d)\n",
    "opt_g=momentum_optimizer(1-obj_g, theta_g) # maximize log(D(G(z)))"
   ]
  },
  {
   "cell_type": "code",
   "execution_count": 9,
   "metadata": {
    "collapsed": true,
    "deletable": true,
    "editable": true
   },
   "outputs": [],
   "source": [
    "\n",
    "sess=tf.InteractiveSession()\n",
    "tf.global_variables_initializer().run()"
   ]
  },
  {
   "cell_type": "code",
   "execution_count": 10,
   "metadata": {
    "collapsed": true,
    "deletable": true,
    "editable": true
   },
   "outputs": [],
   "source": [
    "# copy weights from pre-training over to new D network\n",
    "for i,v in enumerate(theta_d):\n",
    "    sess.run(v.assign(weightsD[i]))"
   ]
  },
  {
   "cell_type": "code",
   "execution_count": 11,
   "metadata": {
    "collapsed": true,
    "deletable": true,
    "editable": true
   },
   "outputs": [],
   "source": [
    "def plot_fig():\n",
    "    # plots pg, pdata, decision boundary \n",
    "    f,ax=plt.subplots(1)\n",
    "    # p_data\n",
    "    xs=np.linspace(-5,5,1000)\n",
    "    ax.plot(xs, norm.pdf(xs,loc=mu,scale=sigma), label='p_data')\n",
    "\n",
    "    # decision boundary\n",
    "    r=5000 # resolution (number of points)\n",
    "    xs=np.linspace(-5,5,r)\n",
    "    ds=np.zeros((r,1)) # decision surface\n",
    "    # process multiple points in parallel in same minibatch\n",
    "    for i in range(int(r/M)):\n",
    "        x=np.reshape(xs[M*i:M*(i+1)],(M,1))\n",
    "        ds[M*i:M*(i+1)]=sess.run(D1,{x_node: x})\n",
    "\n",
    "    ax.plot(xs, ds, label='decision boundary')\n",
    "\n",
    "    # distribution of inverse-mapped points\n",
    "    zs=np.linspace(-5,5,r)\n",
    "    gs=np.zeros((r,1)) # generator function\n",
    "    for i in range(int(r/M)):\n",
    "        z=np.reshape(zs[M*i:M*(i+1)],(M,1))\n",
    "        gs[M*i:M*(i+1)]=sess.run(G,{z_node: z})\n",
    "    histc, edges = np.histogram(gs, bins = 10)\n",
    "    ax.plot(np.linspace(-5,5,10), histc/float(r), label='p_g')\n",
    "\n",
    "    # ylim, legend\n",
    "    ax.set_ylim(0,1.1)\n",
    "    plt.legend()"
   ]
  },
  {
   "cell_type": "code",
   "execution_count": 12,
   "metadata": {
    "collapsed": false,
    "deletable": true,
    "editable": true
   },
   "outputs": [
    {
     "data": {
      "text/plain": [
       "<matplotlib.text.Text at 0x7fb8d92a7fd0>"
      ]
     },
     "execution_count": 12,
     "metadata": {},
     "output_type": "execute_result"
    },
    {
     "data": {
      "image/png": "[encoded data removed]",
      "text/plain": [
       "<matplotlib.figure.Figure at 0x7fb8da31d7f0>"
      ]
     },
     "metadata": {},
     "output_type": "display_data"
    }
   ],
   "source": [
    "plot_fig()\n",
    "plt.title('Before Training')"
   ]
  },
  {
   "cell_type": "code",
   "execution_count": 13,
   "metadata": {
    "collapsed": false,
    "deletable": true,
    "editable": true
   },
   "outputs": [
    {
     "name": "stdout",
     "output_type": "stream",
     "text": [
      "0.0\n",
      "0.01\n",
      "0.02\n",
      "0.03\n",
      "0.04\n",
      "0.05\n",
      "0.06\n",
      "0.07\n",
      "0.08\n",
      "0.09\n",
      "0.1\n",
      "0.11\n",
      "0.12\n",
      "0.13\n",
      "0.14\n",
      "0.15\n",
      "0.16\n",
      "0.17\n",
      "0.18\n",
      "0.19\n",
      "0.2\n",
      "0.21\n",
      "0.22\n",
      "0.23\n",
      "0.24\n",
      "0.25\n",
      "0.26\n",
      "0.27\n",
      "0.28\n",
      "0.29\n",
      "0.3\n",
      "0.31\n",
      "0.32\n",
      "0.33\n",
      "0.34\n",
      "0.35\n",
      "0.36\n",
      "0.37\n",
      "0.38\n",
      "0.39\n",
      "0.4\n",
      "0.41\n",
      "0.42\n",
      "0.43\n",
      "0.44\n",
      "0.45\n",
      "0.46\n",
      "0.47\n",
      "0.48\n",
      "0.49\n",
      "0.5\n",
      "0.51\n",
      "0.52\n",
      "0.53\n",
      "0.54\n",
      "0.55\n",
      "0.56\n",
      "0.57\n",
      "0.58\n",
      "0.59\n",
      "0.6\n",
      "0.61\n",
      "0.62\n",
      "0.63\n",
      "0.64\n",
      "0.65\n",
      "0.66\n",
      "0.67\n",
      "0.68\n",
      "0.69\n",
      "0.7\n",
      "0.71\n",
      "0.72\n",
      "0.73\n",
      "0.74\n",
      "0.75\n",
      "0.76\n",
      "0.77\n",
      "0.78\n",
      "0.79\n",
      "0.8\n",
      "0.81\n",
      "0.82\n",
      "0.83\n",
      "0.84\n",
      "0.85\n",
      "0.86\n",
      "0.87\n",
      "0.88\n",
      "0.89\n",
      "0.9\n",
      "0.91\n",
      "0.92\n",
      "0.93\n",
      "0.94\n",
      "0.95\n",
      "0.96\n",
      "0.97\n",
      "0.98\n",
      "0.99\n"
     ]
    }
   ],
   "source": [
    "\n",
    "# Algorithm 1 of Goodfellow et al 2014\n",
    "k=1\n",
    "histd, histg= np.zeros(TRAIN_ITERS), np.zeros(TRAIN_ITERS)\n",
    "for i in range(TRAIN_ITERS):\n",
    "    for j in range(k):\n",
    "        x= np.random.normal(mu,sigma,M) # sampled m-batch from p_data\n",
    "        x.sort()\n",
    "        z= np.linspace(-5.0,5.0,M)+np.random.random(M)*0.01  # sample m-batch from noise prior\n",
    "        histd[i],_=sess.run([obj_d,opt_d], {x_node: np.reshape(x,(M,1)), z_node: np.reshape(z,(M,1))})\n",
    "    z= np.linspace(-5.0,5.0,M)+np.random.random(M)*0.01 # sample noise prior\n",
    "    histg[i],_=sess.run([obj_g,opt_g], {z_node: np.reshape(z,(M,1))}) # update generator\n",
    "    if i % (TRAIN_ITERS//100) == 0:\n",
    "        print(float(i)/float(TRAIN_ITERS))"
   ]
  },
  {
   "cell_type": "code",
   "execution_count": 14,
   "metadata": {
    "collapsed": false,
    "deletable": true,
    "editable": true
   },
   "outputs": [
    {
     "data": {
      "image/png": "[encoded data removed]",
      "text/plain": [
       "<matplotlib.figure.Figure at 0x7fb8da2f3f98>"
      ]
     },
     "metadata": {},
     "output_type": "display_data"
    },
    {
     "data": {
      "image/png": "[encoded data removed]",
      "text/plain": [
       "<matplotlib.figure.Figure at 0x7fb8d924b860>"
      ]
     },
     "metadata": {},
     "output_type": "display_data"
    }
   ],
   "source": [
    "\n",
    "plt.plot(range(TRAIN_ITERS),histd, label='obj_d')\n",
    "plt.plot(range(TRAIN_ITERS), 1-histg, label='obj_g')\n",
    "plt.legend()\n",
    "plot_fig()"
   ]
  },
  {
   "cell_type": "code",
   "execution_count": null,
   "metadata": {
    "collapsed": true,
    "deletable": true,
    "editable": true
   },
   "outputs": [],
   "source": []
  }
 ],
 "metadata": {
  "hide_input": false,
  "kernelspec": {
   "display_name": "Python 3",
   "language": "python",
   "name": "python3"
  },
  "language_info": {
   "codemirror_mode": {
    "name": "ipython",
    "version": 3
   },
   "file_extension": ".py",
   "mimetype": "text/x-python",
   "name": "python",
   "nbconvert_exporter": "python",
   "pygments_lexer": "ipython3",
   "version": "3.5.3"
  }
 },
 "nbformat": 4,
 "nbformat_minor": 2
}
